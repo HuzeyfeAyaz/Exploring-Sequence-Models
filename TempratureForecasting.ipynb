{
 "cells": [
  {
   "cell_type": "markdown",
   "metadata": {
    "id": "8nh64OrDXQqC"
   },
   "source": [
    "# A Temperature-Forecasting Problem\n",
    "\n",
    "In this notebook, we are going to cover:\n",
    "\n",
    "* How to deal with sequential data\n",
    "* Recurrent Neural Networks (RNNs)\n",
    "\n",
    "<div style=\"display: inline-block\"><img src=\"images/RNN.png\" width=480 height=360></div>\n",
    "\n",
    "Since we are working on sequential data-sets, we need to predict targets based on previous words or data. Recurrent Neural networks helps us to carry early informations for further predictions. Thus, we can preserve sequential order and make more accurate predictions.\n",
    "\n",
    "* Gated Recurrent Units (GRUs)\n",
    "\n",
    "<div style=\"display: inline-block\"><img src=\"images/GRU.png\" width=480 height=360></div>\n",
    "\n",
    "However, RNN isn't very well to capture long-range dependencies. This problem leads to `vanishing gradient problem` that means lead to NaN which is computationally overflowed. GRU is developed to solve this issue. In GRU, `tanh`, and `sigmoid` activation functions are applied to information from previous activation and current input.\n",
    "\n",
    "<img src=\"images/GRUFormula.png\">\n",
    "\n",
    "\n",
    "Dataset is collected by Jena Climate from 2009 to 2016 for each 10 min"
   ]
  },
  {
   "cell_type": "code",
   "execution_count": 1,
   "metadata": {
    "executionInfo": {
     "elapsed": 2133,
     "status": "ok",
     "timestamp": 1602428458033,
     "user": {
      "displayName": "Huzeyfe Ayaz",
      "photoUrl": "",
      "userId": "04212809444872264866"
     },
     "user_tz": -180
    },
    "id": "Kk-zQN6HyQ20"
   },
   "outputs": [],
   "source": [
    "import os\n",
    "import pandas as pd\n",
    "import numpy as np\n",
    "import seaborn as sns\n",
    "from matplotlib import pyplot as plt\n",
    "from sklearn.preprocessing import StandardScaler\n",
    "from sklearn.model_selection import train_test_split"
   ]
  },
  {
   "cell_type": "code",
   "execution_count": 2,
   "metadata": {
    "colab": {
     "base_uri": "https://localhost:8080/",
     "height": 219
    },
    "executionInfo": {
     "elapsed": 3449,
     "status": "ok",
     "timestamp": 1602428459443,
     "user": {
      "displayName": "Huzeyfe Ayaz",
      "photoUrl": "",
      "userId": "04212809444872264866"
     },
     "user_tz": -180
    },
    "id": "U7rfyh_WtAfM",
    "outputId": "9565d135-7eb0-4a16-a90f-a6eb7aaecfbc"
   },
   "outputs": [
    {
     "name": "stdout",
     "output_type": "stream",
     "text": [
      "--2020-10-11 15:00:57--  https://s3.amazonaws.com/keras-datasets/jena_climate_2009_2016.csv.zip\n",
      "Resolving s3.amazonaws.com (s3.amazonaws.com)... 52.216.25.142\n",
      "Connecting to s3.amazonaws.com (s3.amazonaws.com)|52.216.25.142|:443... connected.\n",
      "HTTP request sent, awaiting response... 200 OK\n",
      "Length: 13568290 (13M) [application/zip]\n",
      "Saving to: ‘jena_climate_2009_2016.csv.zip’\n",
      "\n",
      "jena_climate_2009_2 100%[===================>]  12.94M  14.3MB/s    in 0.9s    \n",
      "\n",
      "2020-10-11 15:00:58 (14.3 MB/s) - ‘jena_climate_2009_2016.csv.zip’ saved [13568290/13568290]\n",
      "\n"
     ]
    }
   ],
   "source": [
    "!wget https://s3.amazonaws.com/keras-datasets/jena_climate_2009_2016.csv.zip"
   ]
  },
  {
   "cell_type": "code",
   "execution_count": 3,
   "metadata": {
    "colab": {
     "base_uri": "https://localhost:8080/",
     "height": 54
    },
    "executionInfo": {
     "elapsed": 3948,
     "status": "ok",
     "timestamp": 1602428459999,
     "user": {
      "displayName": "Huzeyfe Ayaz",
      "photoUrl": "",
      "userId": "04212809444872264866"
     },
     "user_tz": -180
    },
    "id": "rDwAv7qdx49D",
    "outputId": "fc1e34f0-fe50-46ae-ebbf-5a12608fe8cf"
   },
   "outputs": [
    {
     "name": "stdout",
     "output_type": "stream",
     "text": [
      "Archive:  jena_climate_2009_2016.csv.zip\n",
      "  inflating: jena_climate_2009_2016.csv  \n"
     ]
    }
   ],
   "source": [
    "!unzip jena_climate_2009_2016.csv.zip"
   ]
  },
  {
   "cell_type": "markdown",
   "metadata": {
    "id": "rWZ3DyrD5kHF"
   },
   "source": [
    "In this dataset, we have many parameters like temperature, air pressure, humidity, and 11 more."
   ]
  },
  {
   "cell_type": "code",
   "execution_count": 4,
   "metadata": {
    "colab": {
     "base_uri": "https://localhost:8080/",
     "height": 424
    },
    "executionInfo": {
     "elapsed": 4395,
     "status": "ok",
     "timestamp": 1602428460472,
     "user": {
      "displayName": "Huzeyfe Ayaz",
      "photoUrl": "",
      "userId": "04212809444872264866"
     },
     "user_tz": -180
    },
    "id": "uQFGuNDvyBaC",
    "outputId": "92463b14-fa92-4914-9d8d-f3980beb7f1a"
   },
   "outputs": [
    {
     "data": {
      "text/html": [
       "<div>\n",
       "<style scoped>\n",
       "    .dataframe tbody tr th:only-of-type {\n",
       "        vertical-align: middle;\n",
       "    }\n",
       "\n",
       "    .dataframe tbody tr th {\n",
       "        vertical-align: top;\n",
       "    }\n",
       "\n",
       "    .dataframe thead th {\n",
       "        text-align: right;\n",
       "    }\n",
       "</style>\n",
       "<table border=\"1\" class=\"dataframe\">\n",
       "  <thead>\n",
       "    <tr style=\"text-align: right;\">\n",
       "      <th></th>\n",
       "      <th>Date Time</th>\n",
       "      <th>p (mbar)</th>\n",
       "      <th>T (degC)</th>\n",
       "      <th>Tpot (K)</th>\n",
       "      <th>Tdew (degC)</th>\n",
       "      <th>rh (%)</th>\n",
       "      <th>VPmax (mbar)</th>\n",
       "      <th>VPact (mbar)</th>\n",
       "      <th>VPdef (mbar)</th>\n",
       "      <th>sh (g/kg)</th>\n",
       "      <th>H2OC (mmol/mol)</th>\n",
       "      <th>rho (g/m**3)</th>\n",
       "      <th>wv (m/s)</th>\n",
       "      <th>max. wv (m/s)</th>\n",
       "      <th>wd (deg)</th>\n",
       "    </tr>\n",
       "  </thead>\n",
       "  <tbody>\n",
       "    <tr>\n",
       "      <th>0</th>\n",
       "      <td>01.01.2009 00:10:00</td>\n",
       "      <td>996.52</td>\n",
       "      <td>-8.02</td>\n",
       "      <td>265.40</td>\n",
       "      <td>-8.90</td>\n",
       "      <td>93.30</td>\n",
       "      <td>3.33</td>\n",
       "      <td>3.11</td>\n",
       "      <td>0.22</td>\n",
       "      <td>1.94</td>\n",
       "      <td>3.12</td>\n",
       "      <td>1307.75</td>\n",
       "      <td>1.03</td>\n",
       "      <td>1.75</td>\n",
       "      <td>152.3</td>\n",
       "    </tr>\n",
       "    <tr>\n",
       "      <th>1</th>\n",
       "      <td>01.01.2009 00:20:00</td>\n",
       "      <td>996.57</td>\n",
       "      <td>-8.41</td>\n",
       "      <td>265.01</td>\n",
       "      <td>-9.28</td>\n",
       "      <td>93.40</td>\n",
       "      <td>3.23</td>\n",
       "      <td>3.02</td>\n",
       "      <td>0.21</td>\n",
       "      <td>1.89</td>\n",
       "      <td>3.03</td>\n",
       "      <td>1309.80</td>\n",
       "      <td>0.72</td>\n",
       "      <td>1.50</td>\n",
       "      <td>136.1</td>\n",
       "    </tr>\n",
       "    <tr>\n",
       "      <th>2</th>\n",
       "      <td>01.01.2009 00:30:00</td>\n",
       "      <td>996.53</td>\n",
       "      <td>-8.51</td>\n",
       "      <td>264.91</td>\n",
       "      <td>-9.31</td>\n",
       "      <td>93.90</td>\n",
       "      <td>3.21</td>\n",
       "      <td>3.01</td>\n",
       "      <td>0.20</td>\n",
       "      <td>1.88</td>\n",
       "      <td>3.02</td>\n",
       "      <td>1310.24</td>\n",
       "      <td>0.19</td>\n",
       "      <td>0.63</td>\n",
       "      <td>171.6</td>\n",
       "    </tr>\n",
       "    <tr>\n",
       "      <th>3</th>\n",
       "      <td>01.01.2009 00:40:00</td>\n",
       "      <td>996.51</td>\n",
       "      <td>-8.31</td>\n",
       "      <td>265.12</td>\n",
       "      <td>-9.07</td>\n",
       "      <td>94.20</td>\n",
       "      <td>3.26</td>\n",
       "      <td>3.07</td>\n",
       "      <td>0.19</td>\n",
       "      <td>1.92</td>\n",
       "      <td>3.08</td>\n",
       "      <td>1309.19</td>\n",
       "      <td>0.34</td>\n",
       "      <td>0.50</td>\n",
       "      <td>198.0</td>\n",
       "    </tr>\n",
       "    <tr>\n",
       "      <th>4</th>\n",
       "      <td>01.01.2009 00:50:00</td>\n",
       "      <td>996.51</td>\n",
       "      <td>-8.27</td>\n",
       "      <td>265.15</td>\n",
       "      <td>-9.04</td>\n",
       "      <td>94.10</td>\n",
       "      <td>3.27</td>\n",
       "      <td>3.08</td>\n",
       "      <td>0.19</td>\n",
       "      <td>1.92</td>\n",
       "      <td>3.09</td>\n",
       "      <td>1309.00</td>\n",
       "      <td>0.32</td>\n",
       "      <td>0.63</td>\n",
       "      <td>214.3</td>\n",
       "    </tr>\n",
       "    <tr>\n",
       "      <th>...</th>\n",
       "      <td>...</td>\n",
       "      <td>...</td>\n",
       "      <td>...</td>\n",
       "      <td>...</td>\n",
       "      <td>...</td>\n",
       "      <td>...</td>\n",
       "      <td>...</td>\n",
       "      <td>...</td>\n",
       "      <td>...</td>\n",
       "      <td>...</td>\n",
       "      <td>...</td>\n",
       "      <td>...</td>\n",
       "      <td>...</td>\n",
       "      <td>...</td>\n",
       "      <td>...</td>\n",
       "    </tr>\n",
       "    <tr>\n",
       "      <th>420546</th>\n",
       "      <td>31.12.2016 23:20:00</td>\n",
       "      <td>1000.07</td>\n",
       "      <td>-4.05</td>\n",
       "      <td>269.10</td>\n",
       "      <td>-8.13</td>\n",
       "      <td>73.10</td>\n",
       "      <td>4.52</td>\n",
       "      <td>3.30</td>\n",
       "      <td>1.22</td>\n",
       "      <td>2.06</td>\n",
       "      <td>3.30</td>\n",
       "      <td>1292.98</td>\n",
       "      <td>0.67</td>\n",
       "      <td>1.52</td>\n",
       "      <td>240.0</td>\n",
       "    </tr>\n",
       "    <tr>\n",
       "      <th>420547</th>\n",
       "      <td>31.12.2016 23:30:00</td>\n",
       "      <td>999.93</td>\n",
       "      <td>-3.35</td>\n",
       "      <td>269.81</td>\n",
       "      <td>-8.06</td>\n",
       "      <td>69.71</td>\n",
       "      <td>4.77</td>\n",
       "      <td>3.32</td>\n",
       "      <td>1.44</td>\n",
       "      <td>2.07</td>\n",
       "      <td>3.32</td>\n",
       "      <td>1289.44</td>\n",
       "      <td>1.14</td>\n",
       "      <td>1.92</td>\n",
       "      <td>234.3</td>\n",
       "    </tr>\n",
       "    <tr>\n",
       "      <th>420548</th>\n",
       "      <td>31.12.2016 23:40:00</td>\n",
       "      <td>999.82</td>\n",
       "      <td>-3.16</td>\n",
       "      <td>270.01</td>\n",
       "      <td>-8.21</td>\n",
       "      <td>67.91</td>\n",
       "      <td>4.84</td>\n",
       "      <td>3.28</td>\n",
       "      <td>1.55</td>\n",
       "      <td>2.05</td>\n",
       "      <td>3.28</td>\n",
       "      <td>1288.39</td>\n",
       "      <td>1.08</td>\n",
       "      <td>2.00</td>\n",
       "      <td>215.2</td>\n",
       "    </tr>\n",
       "    <tr>\n",
       "      <th>420549</th>\n",
       "      <td>31.12.2016 23:50:00</td>\n",
       "      <td>999.81</td>\n",
       "      <td>-4.23</td>\n",
       "      <td>268.94</td>\n",
       "      <td>-8.53</td>\n",
       "      <td>71.80</td>\n",
       "      <td>4.46</td>\n",
       "      <td>3.20</td>\n",
       "      <td>1.26</td>\n",
       "      <td>1.99</td>\n",
       "      <td>3.20</td>\n",
       "      <td>1293.56</td>\n",
       "      <td>1.49</td>\n",
       "      <td>2.16</td>\n",
       "      <td>225.8</td>\n",
       "    </tr>\n",
       "    <tr>\n",
       "      <th>420550</th>\n",
       "      <td>01.01.2017 00:00:00</td>\n",
       "      <td>999.82</td>\n",
       "      <td>-4.82</td>\n",
       "      <td>268.36</td>\n",
       "      <td>-8.42</td>\n",
       "      <td>75.70</td>\n",
       "      <td>4.27</td>\n",
       "      <td>3.23</td>\n",
       "      <td>1.04</td>\n",
       "      <td>2.01</td>\n",
       "      <td>3.23</td>\n",
       "      <td>1296.38</td>\n",
       "      <td>1.23</td>\n",
       "      <td>1.96</td>\n",
       "      <td>184.9</td>\n",
       "    </tr>\n",
       "  </tbody>\n",
       "</table>\n",
       "<p>420551 rows × 15 columns</p>\n",
       "</div>"
      ],
      "text/plain": [
       "                  Date Time  p (mbar)  ...  max. wv (m/s)  wd (deg)\n",
       "0       01.01.2009 00:10:00    996.52  ...           1.75     152.3\n",
       "1       01.01.2009 00:20:00    996.57  ...           1.50     136.1\n",
       "2       01.01.2009 00:30:00    996.53  ...           0.63     171.6\n",
       "3       01.01.2009 00:40:00    996.51  ...           0.50     198.0\n",
       "4       01.01.2009 00:50:00    996.51  ...           0.63     214.3\n",
       "...                     ...       ...  ...            ...       ...\n",
       "420546  31.12.2016 23:20:00   1000.07  ...           1.52     240.0\n",
       "420547  31.12.2016 23:30:00    999.93  ...           1.92     234.3\n",
       "420548  31.12.2016 23:40:00    999.82  ...           2.00     215.2\n",
       "420549  31.12.2016 23:50:00    999.81  ...           2.16     225.8\n",
       "420550  01.01.2017 00:00:00    999.82  ...           1.96     184.9\n",
       "\n",
       "[420551 rows x 15 columns]"
      ]
     },
     "execution_count": 4,
     "metadata": {
      "tags": []
     },
     "output_type": "execute_result"
    }
   ],
   "source": [
    "df = pd.read_csv('jena_climate_2009_2016.csv')\n",
    "df"
   ]
  },
  {
   "cell_type": "markdown",
   "metadata": {
    "id": "0LSjkEh86DEQ"
   },
   "source": [
    "### Plotting the Temperature (in degree Celsius) For Each Time Steps"
   ]
  },
  {
   "cell_type": "code",
   "execution_count": null,
   "metadata": {
    "colab": {
     "base_uri": "https://localhost:8080/",
     "height": 286
    },
    "executionInfo": {
     "elapsed": 1755,
     "status": "ok",
     "timestamp": 1600451009202,
     "user": {
      "displayName": "Huzeyfe Ayaz",
      "photoUrl": "",
      "userId": "04212809444872264866"
     },
     "user_tz": -180
    },
    "id": "BTWRPe6fyeeP",
    "outputId": "f817c1ea-5139-46e7-81b4-d50d212322b0"
   },
   "outputs": [
    {
     "data": {
      "text/plain": [
       "<matplotlib.axes._subplots.AxesSubplot at 0x7f67f335e4e0>"
      ]
     },
     "execution_count": 8,
     "metadata": {
      "tags": []
     },
     "output_type": "execute_result"
    },
    {
     "data": {
      "image/png": "[encoded data removed]",
      "text/plain": [
       "<Figure size 432x288 with 1 Axes>"
      ]
     },
     "metadata": {
      "needs_background": "light",
      "tags": []
     },
     "output_type": "display_data"
    }
   ],
   "source": [
    "df[['T (degC)']].plot()"
   ]
  },
  {
   "cell_type": "markdown",
   "metadata": {
    "id": "eD0ne8836Lgp"
   },
   "source": [
    "* Temperature over the first 10 days of the dataset in degrees Celcius.\n",
    "* Since the 10 day period coming from winter, temperatures are mostly below 0 degrees Celcius."
   ]
  },
  {
   "cell_type": "code",
   "execution_count": null,
   "metadata": {
    "colab": {
     "base_uri": "https://localhost:8080/",
     "height": 283
    },
    "executionInfo": {
     "elapsed": 810,
     "status": "ok",
     "timestamp": 1600451011088,
     "user": {
      "displayName": "Huzeyfe Ayaz",
      "photoUrl": "",
      "userId": "04212809444872264866"
     },
     "user_tz": -180
    },
    "id": "3cZ6MMNzy--1",
    "outputId": "0617af98-2a2f-4a43-ace5-6e93b028794e"
   },
   "outputs": [
    {
     "data": {
      "text/plain": [
       "<matplotlib.axes._subplots.AxesSubplot at 0x7f67f6018fd0>"
      ]
     },
     "execution_count": 9,
     "metadata": {
      "tags": []
     },
     "output_type": "execute_result"
    },
    {
     "data": {
      "image/png": "[encoded data removed]",
      "text/plain": [
       "<Figure size 432x288 with 1 Axes>"
      ]
     },
     "metadata": {
      "needs_background": "light",
      "tags": []
     },
     "output_type": "display_data"
    }
   ],
   "source": [
    "df[['T (degC)']].iloc[:1440].plot()"
   ]
  },
  {
   "cell_type": "code",
   "execution_count": 10,
   "metadata": {
    "colab": {
     "base_uri": "https://localhost:8080/",
     "height": 675
    },
    "executionInfo": {
     "elapsed": 2669,
     "status": "ok",
     "timestamp": 1602429517793,
     "user": {
      "displayName": "Huzeyfe Ayaz",
      "photoUrl": "",
      "userId": "04212809444872264866"
     },
     "user_tz": -180
    },
    "id": "_jWP3XjkLXYP",
    "outputId": "84f78597-b6ff-47f1-fd06-600610afc892"
   },
   "outputs": [
    {
     "data": {
      "image/png": "[encoded data removed]",
      "text/plain": [
       "<Figure size 1080x720 with 2 Axes>"
      ]
     },
     "metadata": {
      "needs_background": "light",
      "tags": []
     },
     "output_type": "display_data"
    }
   ],
   "source": [
    "fig = plt.figure(figsize=(15,10))\n",
    "sns.heatmap(df.corr(), annot=True, cmap=\"crest\")\n",
    "plt.show()"
   ]
  },
  {
   "cell_type": "markdown",
   "metadata": {
    "id": "bq6TmHwtOULp"
   },
   "source": [
    "Heatmap stands for the correlation of features in the dataset as visual. As we can see there are many relational attributes in this weather dataset. We can count p(mbar), wv(m/s), max. wv(m/s), and wd(deg) features as useless since they are not correlated with any one of the other attributes even with output. But now, let's continue with this setting."
   ]
  },
  {
   "cell_type": "markdown",
   "metadata": {
    "id": "ieRybtt86U4O"
   },
   "source": [
    "### Normalizing Dataset"
   ]
  },
  {
   "cell_type": "code",
   "execution_count": null,
   "metadata": {
    "id": "G4JgOdyCzlBo"
   },
   "outputs": [],
   "source": [
    "float_data = df.iloc[:, 1:].values\n",
    "mean = np.mean(float_data[:200000, :], axis=0)\n",
    "float_data -= mean\n",
    "std = float_data[:200000].std(axis=0)\n",
    "float_data /= std"
   ]
  },
  {
   "cell_type": "markdown",
   "metadata": {
    "id": "pxMLTkHFLXYd"
   },
   "source": [
    "In this example, we will be using each hour as samples instead of every 10 min. Besides, we are going to look back to predict the future. For this reason, the `generator` function has been constructed to take all required parameters, and build the train, validation, and test generators. As a basic explanation of that, each lookback creates a group of hours, (in this case it is 240) and the corresponding parameters for each hour. That constructs the `sample` matrix in the shape of a 3D tensor (samples, hours, parameters). To build a generator, we are using the `yield` statement instead of `return`."
   ]
  },
  {
   "cell_type": "code",
   "execution_count": null,
   "metadata": {
    "id": "eUeHSL5iOs_T"
   },
   "outputs": [],
   "source": [
    "def generator(data, lookback, delay, min_index, max_index, shuffle=False, batch_size=128, step=6):\n",
    "    if max_index is None:\n",
    "        max_index = len(data) - delay - 1\n",
    "    i = min_index + lookback\n",
    "    while 1:\n",
    "        if shuffle:\n",
    "            rows = np.random.randint(min_index + lookback, max_index, size=batch_size)\n",
    "        else:\n",
    "            if i + batch_size >= max_index:\n",
    "                i = min_index + lookback\n",
    "            rows = np.arange(i, min(i + batch_size, max_index))\n",
    "            i += len(rows)\n",
    "\n",
    "        samples = np.zeros((len(rows), lookback // step, data.shape[-1]))\n",
    "        targets = np.zeros((len(rows),))\n",
    "        for j, row in enumerate(rows):\n",
    "            indices = range(row - lookback, row, step)\n",
    "            samples[j] = data[indices]\n",
    "            targets[j] = data[row + delay][1]\n",
    "        yield samples, targets"
   ]
  },
  {
   "cell_type": "markdown",
   "metadata": {
    "id": "66wOHIbzXH-V"
   },
   "source": [
    "* `lookback` = How many timesteps back the model should look.\n",
    "* `step` = Steps in the period, 6 means there will be an hour between each time step.\n",
    "* `delay` = Determines how far away the weather condition will be set as a target. "
   ]
  },
  {
   "cell_type": "code",
   "execution_count": null,
   "metadata": {
    "id": "E9gXHe4xPql1"
   },
   "outputs": [],
   "source": [
    "lookback = 1440 # In this case, it looks 10 days before.\n",
    "step = 6 # Takes each hour into a count instead of every 10 min.\n",
    "delay = 144 # Determines target as 24 hours later.\n",
    "batch_size = 128"
   ]
  },
  {
   "cell_type": "code",
   "execution_count": null,
   "metadata": {
    "colab": {
     "base_uri": "https://localhost:8080/",
     "height": 35
    },
    "executionInfo": {
     "elapsed": 525,
     "status": "ok",
     "timestamp": 1600451020889,
     "user": {
      "displayName": "Huzeyfe Ayaz",
      "photoUrl": "",
      "userId": "04212809444872264866"
     },
     "user_tz": -180
    },
    "id": "YZjyijf4Qrnq",
    "outputId": "0177a7fd-d261-4fa4-b04e-6691c0c528f8"
   },
   "outputs": [
    {
     "data": {
      "text/plain": [
       "range(64589, 66029, 6)"
      ]
     },
     "execution_count": 13,
     "metadata": {
      "tags": []
     },
     "output_type": "execute_result"
    }
   ],
   "source": [
    "rows = np.random.randint(0 + lookback, 200000, size=batch_size)\n",
    "indices = range(rows[0] - lookback, rows[0], step)\n",
    "indices"
   ]
  },
  {
   "cell_type": "markdown",
   "metadata": {
    "id": "rEA4CKvI6BiS"
   },
   "source": [
    "200000 samples are split for training, whereas the next 100000 are split for validation and remaining for test data."
   ]
  },
  {
   "cell_type": "code",
   "execution_count": null,
   "metadata": {
    "id": "meoRHSDlP50P"
   },
   "outputs": [],
   "source": [
    "train_gen = generator(float_data, lookback=lookback, delay=delay, min_index = 0, max_index=200000, shuffle=True, step=step, batch_size=batch_size)\n",
    "val_gen = generator(float_data, lookback=lookback, delay=delay, min_index=200001, max_index=300000, step=step, batch_size=batch_size)\n",
    "test_gen = generator(float_data, lookback=lookback, delay=delay, min_index=300001, max_index=None, step=step, batch_size=batch_size)\n",
    "\n",
    "# This is how many steps to draw from `val_gen`\n",
    "# in order to see the whole validation set:\n",
    "val_steps = (300000 - 200001 - lookback) // batch_size\n",
    "\n",
    "# This is how many steps to draw from `test_gen`\n",
    "# in order to see the whole test set:\n",
    "test_steps = (len(float_data) - 300001 - lookback) // batch_size"
   ]
  },
  {
   "cell_type": "markdown",
   "metadata": {
    "id": "zXf7oz_7aE_g"
   },
   "source": [
    "The reason why we shuffled training indices is the temperature of tomorrow is most likely close to the temperature of today and you can think that it would be easy to estimate temperatures tomorrow. In order to observe the truthness of this assumption let's take the validation data in the manual process. For the sake of argument, the temperature of each sample's last hour has been taken as prediction and evaluated using the Mean Absolute Error (MAE) metric."
   ]
  },
  {
   "cell_type": "code",
   "execution_count": null,
   "metadata": {
    "colab": {
     "base_uri": "https://localhost:8080/",
     "height": 35
    },
    "executionInfo": {
     "elapsed": 4973,
     "status": "ok",
     "timestamp": 1600451145221,
     "user": {
      "displayName": "Huzeyfe Ayaz",
      "photoUrl": "",
      "userId": "04212809444872264866"
     },
     "user_tz": -180
    },
    "id": "JPr4YpsZRxnk",
    "outputId": "8fcc019b-f6a4-46ee-c9a1-f309237aa87b"
   },
   "outputs": [
    {
     "name": "stdout",
     "output_type": "stream",
     "text": [
      "0.28973597299054815\n"
     ]
    }
   ],
   "source": [
    "def evaluate_naive_method():\n",
    "  batch_maes = []\n",
    "  for step in range(val_steps):\n",
    "    samples, targets = next(val_gen)\n",
    "    preds = samples[:, -1, 1]\n",
    "    mae = np.mean(np.abs(preds - targets))\n",
    "    batch_maes.append(mae)\n",
    "  print(np.mean(batch_maes))\n",
    "\n",
    "evaluate_naive_method()"
   ]
  },
  {
   "cell_type": "markdown",
   "metadata": {
    "id": "Y41R8HAcczI8"
   },
   "source": [
    "Since we have normalized data, we should multiply it with the standard deviation to get the exact average `MAE`."
   ]
  },
  {
   "cell_type": "code",
   "execution_count": null,
   "metadata": {
    "colab": {
     "base_uri": "https://localhost:8080/",
     "height": 35
    },
    "executionInfo": {
     "elapsed": 694,
     "status": "ok",
     "timestamp": 1600451148623,
     "user": {
      "displayName": "Huzeyfe Ayaz",
      "photoUrl": "",
      "userId": "04212809444872264866"
     },
     "user_tz": -180
    },
    "id": "FByPKz5xUpB1",
    "outputId": "01aacfaa-f24e-4102-e928-6946503ce5c0"
   },
   "outputs": [
    {
     "data": {
      "text/plain": [
       "2.567224733839344"
      ]
     },
     "execution_count": 16,
     "metadata": {
      "tags": []
     },
     "output_type": "execute_result"
    }
   ],
   "source": [
    "celsius_mae = 0.29 * std[1]\n",
    "celsius_mae"
   ]
  },
  {
   "cell_type": "markdown",
   "metadata": {
    "id": "dEHnqTcQ_f3i"
   },
   "source": [
    "### Evaluating Data With Dense Layers"
   ]
  },
  {
   "cell_type": "code",
   "execution_count": null,
   "metadata": {
    "colab": {
     "base_uri": "https://localhost:8080/",
     "height": 752
    },
    "executionInfo": {
     "elapsed": 227496,
     "status": "ok",
     "timestamp": 1600451378855,
     "user": {
      "displayName": "Huzeyfe Ayaz",
      "photoUrl": "",
      "userId": "04212809444872264866"
     },
     "user_tz": -180
    },
    "id": "sTmtAg1HU0o1",
    "outputId": "da9d6b77-321c-4185-ac83-85e05be99c42"
   },
   "outputs": [
    {
     "name": "stdout",
     "output_type": "stream",
     "text": [
      "Epoch 1/20\n",
      "500/500 [==============================] - 11s 22ms/step - loss: 1.4894 - val_loss: 0.8660\n",
      "Epoch 2/20\n",
      "500/500 [==============================] - 11s 22ms/step - loss: 0.4683 - val_loss: 0.3041\n",
      "Epoch 3/20\n",
      "500/500 [==============================] - 11s 22ms/step - loss: 0.2953 - val_loss: 0.3054\n",
      "Epoch 4/20\n",
      "500/500 [==============================] - 11s 22ms/step - loss: 0.2714 - val_loss: 0.3144\n",
      "Epoch 5/20\n",
      "500/500 [==============================] - 11s 21ms/step - loss: 0.2570 - val_loss: 0.3083\n",
      "Epoch 6/20\n",
      "500/500 [==============================] - 11s 22ms/step - loss: 0.2477 - val_loss: 0.3079\n",
      "Epoch 7/20\n",
      "500/500 [==============================] - 11s 22ms/step - loss: 0.2383 - val_loss: 0.3301\n",
      "Epoch 8/20\n",
      "500/500 [==============================] - 11s 22ms/step - loss: 0.2325 - val_loss: 0.3231\n",
      "Epoch 9/20\n",
      "500/500 [==============================] - 11s 22ms/step - loss: 0.2290 - val_loss: 0.3288\n",
      "Epoch 10/20\n",
      "500/500 [==============================] - 11s 22ms/step - loss: 0.2243 - val_loss: 0.3386\n",
      "Epoch 11/20\n",
      "500/500 [==============================] - 11s 21ms/step - loss: 0.2194 - val_loss: 0.3396\n",
      "Epoch 12/20\n",
      "500/500 [==============================] - 11s 22ms/step - loss: 0.2176 - val_loss: 0.3204\n",
      "Epoch 13/20\n",
      "500/500 [==============================] - 11s 22ms/step - loss: 0.2148 - val_loss: 0.3541\n",
      "Epoch 14/20\n",
      "500/500 [==============================] - 11s 22ms/step - loss: 0.2120 - val_loss: 0.3351\n",
      "Epoch 15/20\n",
      "500/500 [==============================] - 11s 22ms/step - loss: 0.2111 - val_loss: 0.3278\n",
      "Epoch 16/20\n",
      "500/500 [==============================] - 11s 22ms/step - loss: 0.2074 - val_loss: 0.3288\n",
      "Epoch 17/20\n",
      "500/500 [==============================] - 11s 22ms/step - loss: 0.2046 - val_loss: 0.3769\n",
      "Epoch 18/20\n",
      "500/500 [==============================] - 11s 22ms/step - loss: 0.2039 - val_loss: 0.3327\n",
      "Epoch 19/20\n",
      "500/500 [==============================] - 11s 22ms/step - loss: 0.2007 - val_loss: 0.3373\n",
      "Epoch 20/20\n",
      "500/500 [==============================] - 11s 22ms/step - loss: 0.2012 - val_loss: 0.3366\n"
     ]
    }
   ],
   "source": [
    "from keras.models import Sequential\n",
    "from keras import layers\n",
    "from keras.optimizers import RMSprop\n",
    "\n",
    "model = Sequential()\n",
    "model.add(layers.Flatten(input_shape=(lookback // step, float_data.shape[-1])))\n",
    "model.add(layers.Dense(32, activation='relu'))\n",
    "model.add(layers.Dense(1))\n",
    "\n",
    "model.compile(optimizer=RMSprop(), loss='mae')\n",
    "history = model.fit(train_gen,\n",
    "                              steps_per_epoch=500,\n",
    "                              epochs=20,\n",
    "                              validation_data=val_gen,\n",
    "                              validation_steps=val_steps)"
   ]
  },
  {
   "cell_type": "code",
   "execution_count": null,
   "metadata": {
    "colab": {
     "base_uri": "https://localhost:8080/",
     "height": 281
    },
    "executionInfo": {
     "elapsed": 827,
     "status": "ok",
     "timestamp": 1600451398006,
     "user": {
      "displayName": "Huzeyfe Ayaz",
      "photoUrl": "",
      "userId": "04212809444872264866"
     },
     "user_tz": -180
    },
    "id": "27sS3hM_ELBo",
    "outputId": "0f5e2711-d4bd-4270-cfcb-3897f171178e"
   },
   "outputs": [
    {
     "data": {
      "image/png": "[encoded data removed]",
      "text/plain": [
       "<Figure size 432x288 with 1 Axes>"
      ]
     },
     "metadata": {
      "needs_background": "light",
      "tags": []
     },
     "output_type": "display_data"
    }
   ],
   "source": [
    "loss = history.history['loss']\n",
    "val_loss = history.history['val_loss']\n",
    "\n",
    "epochs = range(len(loss))\n",
    "\n",
    "plt.figure()\n",
    "\n",
    "plt.plot(epochs, loss, 'b', label='Training loss')\n",
    "plt.plot(epochs, val_loss, 'r', label='Validation loss')\n",
    "plt.title('Training and validation loss')\n",
    "plt.legend()\n",
    "\n",
    "plt.show()"
   ]
  },
  {
   "cell_type": "markdown",
   "metadata": {
    "id": "vTXcsHX-iqHK"
   },
   "source": [
    "Since losses were pretty high at the beginning of training, it is hard to visualize the gap between training and validation loss. Let's plot the results after 1st epoch and look more closely."
   ]
  },
  {
   "cell_type": "code",
   "execution_count": null,
   "metadata": {
    "colab": {
     "base_uri": "https://localhost:8080/",
     "height": 281
    },
    "executionInfo": {
     "elapsed": 1231,
     "status": "ok",
     "timestamp": 1600451472401,
     "user": {
      "displayName": "Huzeyfe Ayaz",
      "photoUrl": "",
      "userId": "04212809444872264866"
     },
     "user_tz": -180
    },
    "id": "a1xwIj82idOJ",
    "outputId": "b97cb166-0018-40b5-d62a-f1c14c46bc06"
   },
   "outputs": [
    {
     "data": {
      "image/png": "[encoded data removed]",
      "text/plain": [
       "<Figure size 432x288 with 1 Axes>"
      ]
     },
     "metadata": {
      "needs_background": "light",
      "tags": []
     },
     "output_type": "display_data"
    }
   ],
   "source": [
    "loss = history.history['loss']\n",
    "val_loss = history.history['val_loss']\n",
    "\n",
    "epochs = range(len(loss))\n",
    "\n",
    "plt.figure()\n",
    "\n",
    "plt.plot(epochs[1:], loss[1:], 'b', label='Training loss')\n",
    "plt.plot(epochs[1:], val_loss[1:], 'r', label='Validation loss')\n",
    "plt.title('Training and validation loss')\n",
    "plt.legend()\n",
    "\n",
    "plt.show()"
   ]
  },
  {
   "cell_type": "markdown",
   "metadata": {
    "id": "2PqhNIxzmn3W"
   },
   "source": [
    "Now, we can observe the result better. After 2$^{nd}$ epoch, the model tends to overfit since training loss decreasing gradually towards 0.20 while validation loss oscillating between 0.30 and 0.40 MAE."
   ]
  },
  {
   "cell_type": "markdown",
   "metadata": {
    "id": "eK2cqQZm_nHZ"
   },
   "source": [
    "### Evaluation With Gated Recurrent Units (GRU)\n",
    "\n",
    "* Let's evaluate the dataset with GRU, which helps us to keep the sequence in memory."
   ]
  },
  {
   "cell_type": "code",
   "execution_count": null,
   "metadata": {
    "colab": {
     "base_uri": "https://localhost:8080/",
     "height": 752
    },
    "executionInfo": {
     "elapsed": 300617,
     "status": "ok",
     "timestamp": 1600451775582,
     "user": {
      "displayName": "Huzeyfe Ayaz",
      "photoUrl": "",
      "userId": "04212809444872264866"
     },
     "user_tz": -180
    },
    "id": "U5DrvaCsFNQj",
    "outputId": "f317d4a2-33ef-406d-df7d-d0c42207859f"
   },
   "outputs": [
    {
     "name": "stdout",
     "output_type": "stream",
     "text": [
      "Epoch 1/20\n",
      "500/500 [==============================] - 15s 31ms/step - loss: 0.2995 - val_loss: 0.2766\n",
      "Epoch 2/20\n",
      "500/500 [==============================] - 15s 31ms/step - loss: 0.2857 - val_loss: 0.2656\n",
      "Epoch 3/20\n",
      "500/500 [==============================] - 15s 30ms/step - loss: 0.2794 - val_loss: 0.2627\n",
      "Epoch 4/20\n",
      "500/500 [==============================] - 15s 30ms/step - loss: 0.2732 - val_loss: 0.2679\n",
      "Epoch 5/20\n",
      "500/500 [==============================] - 14s 29ms/step - loss: 0.2686 - val_loss: 0.2635\n",
      "Epoch 6/20\n",
      "500/500 [==============================] - 14s 29ms/step - loss: 0.2654 - val_loss: 0.2629\n",
      "Epoch 7/20\n",
      "500/500 [==============================] - 15s 29ms/step - loss: 0.2613 - val_loss: 0.2669\n",
      "Epoch 8/20\n",
      "500/500 [==============================] - 14s 29ms/step - loss: 0.2561 - val_loss: 0.2697\n",
      "Epoch 9/20\n",
      "500/500 [==============================] - 14s 29ms/step - loss: 0.2507 - val_loss: 0.2686\n",
      "Epoch 10/20\n",
      "500/500 [==============================] - 15s 29ms/step - loss: 0.2476 - val_loss: 0.2694\n",
      "Epoch 11/20\n",
      "500/500 [==============================] - 14s 29ms/step - loss: 0.2433 - val_loss: 0.2750\n",
      "Epoch 12/20\n",
      "500/500 [==============================] - 14s 29ms/step - loss: 0.2401 - val_loss: 0.2770\n",
      "Epoch 13/20\n",
      "500/500 [==============================] - 14s 29ms/step - loss: 0.2353 - val_loss: 0.2808\n",
      "Epoch 14/20\n",
      "500/500 [==============================] - 14s 29ms/step - loss: 0.2310 - val_loss: 0.2839\n",
      "Epoch 15/20\n",
      "500/500 [==============================] - 14s 29ms/step - loss: 0.2274 - val_loss: 0.2880\n",
      "Epoch 16/20\n",
      "500/500 [==============================] - 15s 30ms/step - loss: 0.2249 - val_loss: 0.2919\n",
      "Epoch 17/20\n",
      "500/500 [==============================] - 15s 29ms/step - loss: 0.2200 - val_loss: 0.2930\n",
      "Epoch 18/20\n",
      "500/500 [==============================] - 15s 30ms/step - loss: 0.2159 - val_loss: 0.2926\n",
      "Epoch 19/20\n",
      "500/500 [==============================] - 15s 29ms/step - loss: 0.2125 - val_loss: 0.2949\n",
      "Epoch 20/20\n",
      "500/500 [==============================] - 15s 29ms/step - loss: 0.2078 - val_loss: 0.3014\n"
     ]
    }
   ],
   "source": [
    "model = Sequential()\n",
    "model.add(layers.GRU(32, input_shape=(None, float_data.shape[-1])))\n",
    "model.add(layers.Dense(1))\n",
    "\n",
    "model.compile(optimizer=RMSprop(), loss='mae')\n",
    "history = model.fit(train_gen,\n",
    "                    steps_per_epoch=500,\n",
    "                    epochs=20,\n",
    "                    validation_data=val_gen,\n",
    "                    validation_steps=val_steps)"
   ]
  },
  {
   "cell_type": "code",
   "execution_count": null,
   "metadata": {
    "colab": {
     "base_uri": "https://localhost:8080/",
     "height": 281
    },
    "executionInfo": {
     "elapsed": 736,
     "status": "ok",
     "timestamp": 1600451806199,
     "user": {
      "displayName": "Huzeyfe Ayaz",
      "photoUrl": "",
      "userId": "04212809444872264866"
     },
     "user_tz": -180
    },
    "id": "m5IaAqxjGpGL",
    "outputId": "4c279591-ca8c-4828-e9f7-5fbf1f4aee2d"
   },
   "outputs": [
    {
     "data": {
      "image/png": "[encoded data removed]",
      "text/plain": [
       "<Figure size 432x288 with 1 Axes>"
      ]
     },
     "metadata": {
      "needs_background": "light",
      "tags": []
     },
     "output_type": "display_data"
    }
   ],
   "source": [
    "loss = history.history['loss']\n",
    "val_loss = history.history['val_loss']\n",
    "\n",
    "epochs = range(len(loss))\n",
    "\n",
    "plt.figure()\n",
    "\n",
    "plt.plot(epochs, loss, 'b', label='Training loss')\n",
    "plt.xticks(range(0,22,2))\n",
    "plt.plot(epochs, val_loss, 'r', label='Validation loss')\n",
    "plt.title('Training and validation loss')\n",
    "plt.legend()\n",
    "\n",
    "plt.show()"
   ]
  },
  {
   "cell_type": "markdown",
   "metadata": {
    "id": "eJQZcbPW_unP"
   },
   "source": [
    "### GRU With Regularization\n",
    "\n",
    "It has long been known that applying regular dropout in RNN models is wrecking training performance determined by Yarin Gal, in 2015 as part of his Ph.D. thesis. \"See Yarin Gal, \"Uncertainty in Deep Learning (PhD Thesis)\" October 13, 2016, http:mlg.eng.cam.ac.uk/yarin/blog_2248.html\"\n",
    "\n",
    "Instead, we should apply recurrent dropout to the inner recurrent activation. However, we are losing the power of cuDNN when we use recurrent dropout since it has not been supported by Keras in a low level yet. \n",
    "\n",
    "For this reason, we will use recurrent_regularizer. That will help us to prevent overfitting without losing performance."
   ]
  },
  {
   "cell_type": "code",
   "execution_count": null,
   "metadata": {
    "colab": {
     "base_uri": "https://localhost:8080/",
     "height": 752
    },
    "executionInfo": {
     "elapsed": 321164,
     "status": "ok",
     "timestamp": 1600452191901,
     "user": {
      "displayName": "Huzeyfe Ayaz",
      "photoUrl": "",
      "userId": "04212809444872264866"
     },
     "user_tz": -180
    },
    "id": "g_U6P0LH_QQw",
    "outputId": "d49b7325-ed14-46cb-8b4c-57dc2e6f262d"
   },
   "outputs": [
    {
     "name": "stdout",
     "output_type": "stream",
     "text": [
      "Epoch 1/20\n",
      "500/500 [==============================] - 15s 31ms/step - loss: 0.4048 - val_loss: 0.3004\n",
      "Epoch 2/20\n",
      "500/500 [==============================] - 16s 32ms/step - loss: 0.3201 - val_loss: 0.2986\n",
      "Epoch 3/20\n",
      "500/500 [==============================] - 16s 31ms/step - loss: 0.3097 - val_loss: 0.2772\n",
      "Epoch 4/20\n",
      "500/500 [==============================] - 16s 31ms/step - loss: 0.3008 - val_loss: 0.2731\n",
      "Epoch 5/20\n",
      "500/500 [==============================] - 16s 31ms/step - loss: 0.2986 - val_loss: 0.2759\n",
      "Epoch 6/20\n",
      "500/500 [==============================] - 16s 31ms/step - loss: 0.2947 - val_loss: 0.2703\n",
      "Epoch 7/20\n",
      "500/500 [==============================] - 16s 31ms/step - loss: 0.2934 - val_loss: 0.2892\n",
      "Epoch 8/20\n",
      "500/500 [==============================] - 16s 32ms/step - loss: 0.2916 - val_loss: 0.2651\n",
      "Epoch 9/20\n",
      "500/500 [==============================] - 16s 32ms/step - loss: 0.2895 - val_loss: 0.2810\n",
      "Epoch 10/20\n",
      "500/500 [==============================] - 16s 33ms/step - loss: 0.2888 - val_loss: 0.2833\n",
      "Epoch 11/20\n",
      "500/500 [==============================] - 16s 32ms/step - loss: 0.2863 - val_loss: 0.2641\n",
      "Epoch 12/20\n",
      "500/500 [==============================] - 16s 32ms/step - loss: 0.2871 - val_loss: 0.2654\n",
      "Epoch 13/20\n",
      "500/500 [==============================] - 16s 32ms/step - loss: 0.2831 - val_loss: 0.2689\n",
      "Epoch 14/20\n",
      "500/500 [==============================] - 16s 32ms/step - loss: 0.2856 - val_loss: 0.2685\n",
      "Epoch 15/20\n",
      "500/500 [==============================] - 16s 32ms/step - loss: 0.2814 - val_loss: 0.2708\n",
      "Epoch 16/20\n",
      "500/500 [==============================] - 16s 33ms/step - loss: 0.2815 - val_loss: 0.2738\n",
      "Epoch 17/20\n",
      "500/500 [==============================] - 16s 33ms/step - loss: 0.2810 - val_loss: 0.2656\n",
      "Epoch 18/20\n",
      "500/500 [==============================] - 16s 32ms/step - loss: 0.2821 - val_loss: 0.2641\n",
      "Epoch 19/20\n",
      "500/500 [==============================] - 16s 32ms/step - loss: 0.2802 - val_loss: 0.2739\n",
      "Epoch 20/20\n",
      "500/500 [==============================] - 16s 32ms/step - loss: 0.2767 - val_loss: 0.2672\n"
     ]
    }
   ],
   "source": [
    "from keras.regularizers import L2\n",
    "\n",
    "l2_regularizer = L2(l2=0.01)\n",
    "\n",
    "model = Sequential()\n",
    "model.add(layers.GRU(32, recurrent_regularizer=l2_regularizer, input_shape=(None, float_data.shape[-1])))\n",
    "model.add(layers.BatchNormalization())\n",
    "model.add(layers.Dense(1))\n",
    "\n",
    "model.compile(optimizer=RMSprop(), loss='mae')\n",
    "history = model.fit(train_gen,\n",
    "                    steps_per_epoch=500,\n",
    "                    epochs=20,\n",
    "                    validation_data=val_gen,\n",
    "                    validation_steps=val_steps)"
   ]
  },
  {
   "cell_type": "code",
   "execution_count": null,
   "metadata": {
    "colab": {
     "base_uri": "https://localhost:8080/",
     "height": 281
    },
    "executionInfo": {
     "elapsed": 720,
     "status": "ok",
     "timestamp": 1600452202954,
     "user": {
      "displayName": "Huzeyfe Ayaz",
      "photoUrl": "",
      "userId": "04212809444872264866"
     },
     "user_tz": -180
    },
    "id": "WB7UmclyBz44",
    "outputId": "df5e101c-9838-4fe7-f42d-afd91f788858"
   },
   "outputs": [
    {
     "data": {
      "image/png": "[encoded data removed]",
      "text/plain": [
       "<Figure size 432x288 with 1 Axes>"
      ]
     },
     "metadata": {
      "needs_background": "light",
      "tags": []
     },
     "output_type": "display_data"
    }
   ],
   "source": [
    "loss = history.history['loss']\n",
    "val_loss = history.history['val_loss']\n",
    "\n",
    "epochs = range(len(loss))\n",
    "\n",
    "plt.figure()\n",
    "\n",
    "plt.plot(epochs, loss, 'b', label='Training loss')\n",
    "plt.plot(epochs, val_loss, 'r', label='Validation loss')\n",
    "plt.title('Training and validation loss')\n",
    "plt.legend()\n",
    "\n",
    "plt.show()"
   ]
  },
  {
   "cell_type": "markdown",
   "metadata": {
    "id": "lWVI9rWi5Lkn"
   },
   "source": [
    "As shown above, validation loss is more stable now."
   ]
  },
  {
   "cell_type": "markdown",
   "metadata": {
    "id": "z5-7dwz6_1oY"
   },
   "source": [
    "### Double Gru\n",
    "\n",
    "For more computational power we can use our RNN models multiple time if needed. In this case, since our model does not overfit, we can safely add more layers."
   ]
  },
  {
   "cell_type": "code",
   "execution_count": null,
   "metadata": {
    "colab": {
     "base_uri": "https://localhost:8080/",
     "height": 752
    },
    "executionInfo": {
     "elapsed": 460166,
     "status": "ok",
     "timestamp": 1600452675020,
     "user": {
      "displayName": "Huzeyfe Ayaz",
      "photoUrl": "",
      "userId": "04212809444872264866"
     },
     "user_tz": -180
    },
    "id": "PEoY6BtVGQDu",
    "outputId": "7549c2f1-1689-4ed5-8cba-eb952bf15572"
   },
   "outputs": [
    {
     "name": "stdout",
     "output_type": "stream",
     "text": [
      "Epoch 1/20\n",
      "500/500 [==============================] - 23s 46ms/step - loss: 0.4094 - val_loss: 0.2850\n",
      "Epoch 2/20\n",
      "500/500 [==============================] - 23s 46ms/step - loss: 0.3005 - val_loss: 0.2771\n",
      "Epoch 3/20\n",
      "500/500 [==============================] - 23s 45ms/step - loss: 0.2925 - val_loss: 0.2760\n",
      "Epoch 4/20\n",
      "500/500 [==============================] - 23s 46ms/step - loss: 0.2893 - val_loss: 0.2797\n",
      "Epoch 5/20\n",
      "500/500 [==============================] - 23s 47ms/step - loss: 0.2846 - val_loss: 0.2695\n",
      "Epoch 6/20\n",
      "500/500 [==============================] - 23s 46ms/step - loss: 0.2821 - val_loss: 0.2640\n",
      "Epoch 7/20\n",
      "500/500 [==============================] - 23s 46ms/step - loss: 0.2805 - val_loss: 0.2679\n",
      "Epoch 8/20\n",
      "500/500 [==============================] - 23s 45ms/step - loss: 0.2770 - val_loss: 0.2663\n",
      "Epoch 9/20\n",
      "500/500 [==============================] - 22s 45ms/step - loss: 0.2741 - val_loss: 0.2660\n",
      "Epoch 10/20\n",
      "500/500 [==============================] - 23s 45ms/step - loss: 0.2697 - val_loss: 0.2626\n",
      "Epoch 11/20\n",
      "500/500 [==============================] - 23s 46ms/step - loss: 0.2715 - val_loss: 0.2684\n",
      "Epoch 12/20\n",
      "500/500 [==============================] - 23s 45ms/step - loss: 0.2674 - val_loss: 0.2676\n",
      "Epoch 13/20\n",
      "500/500 [==============================] - 23s 46ms/step - loss: 0.2648 - val_loss: 0.2753\n",
      "Epoch 14/20\n",
      "500/500 [==============================] - 23s 45ms/step - loss: 0.2622 - val_loss: 0.2655\n",
      "Epoch 15/20\n",
      "500/500 [==============================] - 23s 45ms/step - loss: 0.2607 - val_loss: 0.2648\n",
      "Epoch 16/20\n",
      "500/500 [==============================] - 22s 45ms/step - loss: 0.2571 - val_loss: 0.2671\n",
      "Epoch 17/20\n",
      "500/500 [==============================] - 23s 45ms/step - loss: 0.2547 - val_loss: 0.2703\n",
      "Epoch 18/20\n",
      "500/500 [==============================] - 23s 46ms/step - loss: 0.2524 - val_loss: 0.2667\n",
      "Epoch 19/20\n",
      "500/500 [==============================] - 23s 46ms/step - loss: 0.2498 - val_loss: 0.2637\n",
      "Epoch 20/20\n",
      "500/500 [==============================] - 23s 45ms/step - loss: 0.2478 - val_loss: 0.2714\n"
     ]
    }
   ],
   "source": [
    "model = Sequential()\n",
    "model.add(layers.GRU(32,\n",
    "                     recurrent_regularizer=l2_regularizer,\n",
    "                     return_sequences=True,\n",
    "                     input_shape=(None, float_data.shape[-1])))\n",
    "model.add(layers.GRU(64,\n",
    "                     recurrent_regularizer=l2_regularizer))\n",
    "model.add(layers.Dense(1))\n",
    "\n",
    "model.compile(optimizer=RMSprop(), loss='mae')\n",
    "history = model.fit_generator(train_gen,\n",
    "                              steps_per_epoch=500,\n",
    "                              epochs=20,\n",
    "                              validation_data=val_gen,\n",
    "                              validation_steps=val_steps)"
   ]
  },
  {
   "cell_type": "code",
   "execution_count": null,
   "metadata": {
    "colab": {
     "base_uri": "https://localhost:8080/",
     "height": 281
    },
    "executionInfo": {
     "elapsed": 992,
     "status": "ok",
     "timestamp": 1600452677702,
     "user": {
      "displayName": "Huzeyfe Ayaz",
      "photoUrl": "",
      "userId": "04212809444872264866"
     },
     "user_tz": -180
    },
    "id": "w6sW7SfMHTCN",
    "outputId": "64cffeab-63eb-4fef-f356-dab915b6eecb"
   },
   "outputs": [
    {
     "data": {
      "image/png": "[encoded data removed]",
      "text/plain": [
       "<Figure size 432x288 with 1 Axes>"
      ]
     },
     "metadata": {
      "needs_background": "light",
      "tags": []
     },
     "output_type": "display_data"
    }
   ],
   "source": [
    "loss = history.history['loss']\n",
    "val_loss = history.history['val_loss']\n",
    "\n",
    "epochs = range(len(loss))\n",
    "\n",
    "plt.figure()\n",
    "\n",
    "plt.plot(epochs, loss, 'b', label='Training loss')\n",
    "plt.plot(epochs, val_loss, 'r', label='Validation loss')\n",
    "plt.title('Training and validation loss')\n",
    "plt.legend()\n",
    "\n",
    "plt.show()"
   ]
  },
  {
   "cell_type": "markdown",
   "metadata": {},
   "source": [
    "As a final thought, allowing a bit over-fitting in the model generally gives better results in the test data. Moreover, we don't want a model to bias towards the validation-set."
   ]
  }
 ],
 "metadata": {
  "accelerator": "GPU",
  "colab": {
   "collapsed_sections": [],
   "name": "TempratureForecasting.ipynb",
   "provenance": []
  },
  "kernelspec": {
   "display_name": "Python 3",
   "language": "python",
   "name": "python3"
  },
  "language_info": {
   "codemirror_mode": {
    "name": "ipython",
    "version": 3
   },
   "file_extension": ".py",
   "mimetype": "text/x-python",
   "name": "python",
   "nbconvert_exporter": "python",
   "pygments_lexer": "ipython3",
   "version": "3.8.1"
  }
 },
 "nbformat": 4,
 "nbformat_minor": 1
}
